{
 "cells": [
  {
   "cell_type": "code",
   "execution_count": 16,
   "id": "3adeb2f1-5d8a-43cc-aca8-33ed32ad52b7",
   "metadata": {},
   "outputs": [
    {
     "name": "stdin",
     "output_type": "stream",
     "text": [
      "Enter element at position (1,1):  2\n",
      "Enter element at position (1,2):  3\n",
      "Enter element at position (1,3):  6\n",
      "Enter element at position (2,1):  4\n",
      "Enter element at position (2,2):  7\n",
      "Enter element at position (2,3):  5\n",
      "Enter element at position (3,1):  8\n",
      "Enter element at position (3,2):  9\n",
      "Enter element at position (3,3):  1\n"
     ]
    },
    {
     "name": "stdout",
     "output_type": "stream",
     "text": [
      "Input Matrix:\n",
      "[2, 3, 6]\n",
      "[4, 7, 5]\n",
      "[8, 9, 1]\n"
     ]
    }
   ],
   "source": [
    "def input_matrix():\n",
    "    # Initialize an empty matrix (list of lists)\n",
    "    matrix = []\n",
    "\n",
    "    # Iterate over each row\n",
    "    for i in range(3):\n",
    "        row = []\n",
    "        # Iterate over each column \n",
    "        for j in range(3):\n",
    "            while True:\n",
    "                try:\n",
    "                    #Check value is an int.\n",
    "                    value = int(input(f\"Enter element at position ({i+1},{j+1}): \"))\n",
    "                    # Check value is within the range 1-9\n",
    "                    if 1 <= value <= 9:\n",
    "                        row.append(value)\n",
    "                        break\n",
    "                    else:\n",
    "                        print(\"Input value must be between 1 and 9.\")\n",
    "                except ValueError:\n",
    "                    print(\"Invalid input. Please enter an integer.\")\n",
    "\n",
    "        # Append the completed row to the matrix\n",
    "        matrix.append(row)\n",
    "\n",
    "    return matrix\n",
    "\n",
    "# Function call to input the matrix\n",
    "matrix = input_matrix()\n",
    "\n",
    "# Print the input matrix\n",
    "print(\"Input Matrix:\")\n",
    "for row in matrix:\n",
    "    print(row)\n"
   ]
  },
  {
   "cell_type": "code",
   "execution_count": 17,
   "id": "5fa35c10-ba4c-40a0-bef6-318cf846b85b",
   "metadata": {},
   "outputs": [
    {
     "name": "stdout",
     "output_type": "stream",
     "text": [
      "[2,3,6],[4,7,5][8,9,1]\n"
     ]
    }
   ],
   "source": [
    "#Record Input as variables\n",
    "a = matrix[0][0]\n",
    "b = matrix[0][1]\n",
    "c = matrix[0][2]\n",
    "d = matrix[1][0]\n",
    "X = matrix[1][1]\n",
    "e = matrix[1][2]\n",
    "f = matrix[2][0]\n",
    "g = matrix[2][1]\n",
    "h = matrix[2][2]\n",
    "\n",
    "print(f'[{a},{b},{c}],[{d},{X},{e}][{f},{g},{h}]')"
   ]
  },
  {
   "cell_type": "markdown",
   "id": "6a507338-e910-4c73-824d-ac1b1cd309f8",
   "metadata": {},
   "source": [
    "# Finding X"
   ]
  },
  {
   "cell_type": "code",
   "execution_count": 18,
   "id": "9f8a9efb-0038-4d58-8a2b-c01c1bbafe35",
   "metadata": {},
   "outputs": [
    {
     "name": "stdout",
     "output_type": "stream",
     "text": [
      "Initial X: 7\n",
      "Updated X: 5\n",
      "Final X: 5\n"
     ]
    }
   ],
   "source": [
    "def find_X(a, b, c, d, X, e, f, g, h):\n",
    "    # Define scenarios to check against\n",
    "    possibles = [5, 6]\n",
    "\n",
    "    # Iterate over specified letters (a, c, f, h)\n",
    "    for letter in [a, c, f, h]:\n",
    "        found_X = False\n",
    "        for num in possibles:\n",
    "            if letter + 3 == num or letter - 3 == num:\n",
    "                X = num\n",
    "                found_X = True\n",
    "                break\n",
    "            elif letter + 1 == num or letter - 1 == num:\n",
    "                X = num\n",
    "                found_X = True\n",
    "                break\n",
    "        if found_X:\n",
    "            break\n",
    "        else:\n",
    "            X = 5  # Default value if none of the conditions match\n",
    "\n",
    "    # Ensure X is within the range (3, 7)\n",
    "    if 4 < X < 7:\n",
    "        return X\n",
    "    else:\n",
    "        return None  # Or handle the case where X is not within the range\n",
    "\n",
    "\n",
    "# Test if need to find X\n",
    "#--------------------------------------------------------------------------------\n",
    "#X = 6# Example initial value of X\n",
    "print(\"Initial X:\", X) \n",
    "#--------------------------------------------------------------------------------\n",
    "\n",
    "possibles = [ 5, 6]\n",
    "need_X = True\n",
    "\n",
    "# Check if X is already one of the scenarios\n",
    "for i in possibles:\n",
    "    if X == i:\n",
    "        need_X = False\n",
    "        break\n",
    "\n",
    "# If X is not in possibles, call find_X to determine X\n",
    "if need_X:\n",
    "    X = find_X(a,b,c,d,X,e,f,g,h)\n",
    "    if X is None:\n",
    "        print(\"X could not be determined within the specified range.\")\n",
    "    else:\n",
    "        print(\"Updated X:\", X)\n",
    "else:\n",
    "    print(\"X is already one of the scenarios.\")\n",
    "\n",
    "print(\"Final X:\", X)\n"
   ]
  },
  {
   "cell_type": "markdown",
   "id": "86f5171d-409d-412e-85bf-e1e9ac760e32",
   "metadata": {},
   "source": [
    "# Define Magic Number"
   ]
  },
  {
   "cell_type": "code",
   "execution_count": 19,
   "id": "2983e2c5-6a1b-4f08-a2e8-70d941e07d8f",
   "metadata": {},
   "outputs": [
    {
     "name": "stdout",
     "output_type": "stream",
     "text": [
      "Magic Number: 15\n"
     ]
    }
   ],
   "source": [
    "\n",
    "if X == 5:\n",
    "   Magic_Number = 15 \n",
    "else:\n",
    "   Magic_Number = 18\n",
    "print(f'Magic Number: {Magic_Number}')"
   ]
  },
  {
   "cell_type": "markdown",
   "id": "446e5645-4fbf-4134-9cfb-adbced37f800",
   "metadata": {},
   "source": [
    "# Finding all four corners"
   ]
  },
  {
   "cell_type": "code",
   "execution_count": 20,
   "id": "dc9cd3fe-5757-4f31-b296-e1bfb937a8bf",
   "metadata": {},
   "outputs": [
    {
     "name": "stdout",
     "output_type": "stream",
     "text": [
      "2 1 8 6\n",
      "a (2) is equal to one of the values: [4, 6, 8, 2]\n",
      "2 8 6 4\n"
     ]
    }
   ],
   "source": [
    "#Test if a needs replaced if not replace all other corners\n",
    "def test_variable_a(a, h, X, f, c):\n",
    "    # List of values to test against\n",
    "    values_to_test = [X - 1, X + 1, X + 3, X - 3]\n",
    "    fch_3_values = [X-3, X+3]\n",
    "    fch_1_values = [X-1, X+1]\n",
    "    flag = True\n",
    "    # Check if a is equal to any of the values\n",
    "    if a in values_to_test:\n",
    "        print(f\"a ({a}) is equal to one of the values: {values_to_test}\")\n",
    "        flag = False\n",
    "        h = Magic_Number - (X + a)\n",
    "        if a in fch_3_values:\n",
    "            c = X - 1\n",
    "            f = X + 1\n",
    "        else:\n",
    "            c = X - 3\n",
    "            f = X + 3\n",
    "    else:\n",
    "        print(f\"a ({a}) is not equal to any of the values: {values_to_test}\")\n",
    "        flag = True\n",
    "    return flag, a, h, f, c\n",
    "\n",
    "\n",
    "#if a needs replaced the replace all corners\n",
    "def find_a(a,b,c,d,X,e,f,g,h):\n",
    "    values_to_test = [X - 1, X + 1, X + 3, X - 3]\n",
    "    fch_3_values = [X-3, X+3]\n",
    "    fch_1_values = [X-1, X+1]\n",
    "    fc = [f,c]\n",
    "    if h in values_to_test:# if h is in algerithm\n",
    "        print(\"h is in alg\")\n",
    "        a = Magic_Number - (X + h)\n",
    "        if h in fch_3_values:\n",
    "            if c in fch_1_values: \n",
    "                f = Magic_Number - (X + c)\n",
    "            elif f in fch_1_values: \n",
    "                c = Magic_Number - (X + f)\n",
    "            else:\n",
    "                c = X + 1\n",
    "                f = X - 1\n",
    "        else:\n",
    "            if c in fch_3_values: \n",
    "                f = Magic_Number - (X + c)\n",
    "            elif f in fch_3_values: \n",
    "                c = Magic_Number - (X + f)\n",
    "            else:\n",
    "                c = X + 3\n",
    "                f = X - 3\n",
    "    else:\n",
    "        if f in fch_3_values:# if f is in algerithm\n",
    "            h = X - 1\n",
    "            a = X + 1\n",
    "            c = Magic_Number - (X + f)\n",
    "        elif f in fch_1_values:\n",
    "            h = X - 3\n",
    "            a = X + 3\n",
    "            c = Magic_Number - (X + f)\n",
    "        elif c in fch_3_values:# if c is in algerithm\n",
    "            h = X - 1\n",
    "            a = X + 1\n",
    "            f = Magic_Number - (X + c)\n",
    "        elif c in fch_1_values:\n",
    "            h = X - 3\n",
    "            a = X + 3\n",
    "            f = Magic_Number - (X + c)\n",
    "        else: #if no corner is in algerithm\n",
    "            a = X + 1\n",
    "            h = X - 1\n",
    "            f = X - 3\n",
    "            c = X + 3\n",
    "\n",
    "    return a, h, f, c\n",
    "\n",
    "\n",
    "\n",
    "\n",
    "print(a, h, f, c)\n",
    "need_a, a, h, f, c = test_variable_a(a, h, X, f, c)  # Change the value of 'a' here to test different scenarios\n",
    "if need_a:\n",
    "    a, h, f, c = find_a(a,b,c,d,X,e,f,g,h)\n",
    "    \n",
    "print(a,h,f,c)"
   ]
  },
  {
   "cell_type": "markdown",
   "id": "862a9442-b0a7-4393-9eda-c80f62c10e86",
   "metadata": {},
   "source": [
    "# Defining last 4 variables"
   ]
  },
  {
   "cell_type": "code",
   "execution_count": 21,
   "id": "c7a6874e-dfeb-48eb-ab65-c5e2e5b8425d",
   "metadata": {},
   "outputs": [],
   "source": [
    "b = Magic_Number - (a + c)\n",
    "d = Magic_Number - (a + f)\n",
    "e = Magic_Number - (c + h)\n",
    "g = Magic_Number - (f + h)"
   ]
  },
  {
   "cell_type": "markdown",
   "id": "3cba93f2-a403-4184-97eb-76860f18df06",
   "metadata": {},
   "source": [
    "# Counting steps"
   ]
  },
  {
   "cell_type": "code",
   "execution_count": 22,
   "id": "604f1a57-de94-456e-a52f-d687d9d8c0df",
   "metadata": {},
   "outputs": [
    {
     "name": "stdout",
     "output_type": "stream",
     "text": [
      "[[2, 3, 6], [4, 7, 5], [8, 9, 1]]\n",
      "[[2, 9, 4], [7, 5, 3], [6, 1, 8]]\n"
     ]
    }
   ],
   "source": [
    "print(matrix)\n",
    "solved_matrix = [[a,b,c],[d,X,e],[f,g,h]]\n",
    "print(solved_matrix)"
   ]
  },
  {
   "cell_type": "code",
   "execution_count": 23,
   "id": "9e9e8773-196c-4622-9b31-7b5c68f236ae",
   "metadata": {},
   "outputs": [
    {
     "name": "stdout",
     "output_type": "stream",
     "text": [
      "The number of steps taken to solve this matrix was 8 steps.\n"
     ]
    }
   ],
   "source": [
    "#Record Input as variables\n",
    "# Initialize steps counter\n",
    "steps_counter = 0\n",
    "\n",
    "# List of variables and their corresponding positions in the matrix\n",
    "variables = [a, b, c, d, X, e, f, g, h]\n",
    "positions = [(0, 0), (0, 1), (0, 2), \n",
    "             (1, 0), (1, 1), (1, 2), \n",
    "             (2, 0), (2, 1), (2, 2)]\n",
    "\n",
    "# Compare each variable with its corresponding matrix element\n",
    "for var, pos in zip(variables, positions):\n",
    "    if var != matrix[pos[0]][pos[1]]:\n",
    "        steps_counter += 1\n",
    "\n",
    "# Print the number of steps taken to solve the matrix\n",
    "print(f'The number of steps taken to solve this matrix was {steps_counter} steps.')"
   ]
  },
  {
   "cell_type": "code",
   "execution_count": 24,
   "id": "3fb192ea-6656-41d5-8f44-cba17b58b989",
   "metadata": {},
   "outputs": [
    {
     "name": "stdout",
     "output_type": "stream",
     "text": [
      "Magic Square:\n",
      "[[2, 9, 4], [7, 5, 3], [6, 1, 8]]\n"
     ]
    },
    {
     "data": {
      "image/png": "[encoded data removed]",
      "text/plain": [
       "<Figure size 640x480 with 1 Axes>"
      ]
     },
     "metadata": {},
     "output_type": "display_data"
    }
   ],
   "source": [
    "import numpy as np\n",
    "import matplotlib.pyplot as plt\n",
    "\n",
    "# Display the magic square\n",
    "print(\"Magic Square:\")\n",
    "print(solved_matrix)\n",
    "\n",
    "# Plot the magic square as a heatmap\n",
    "plt.imshow(solved_matrix, cmap='viridis', interpolation='nearest')\n",
    "\n",
    "# Add text annotations for each cell with variables\n",
    "for (i, j), var in zip(positions, variables):\n",
    "    plt.text(j, i, var,\n",
    "             ha=\"center\", va=\"center\", color=\"black\", fontsize=12)\n",
    "\n",
    "# Set title and labels\n",
    "plt.title('Magic Square')\n",
    "plt.xlabel('Columns')\n",
    "plt.ylabel('Rows')\n",
    "plt.xticks(range(3), ['Column 1', 'Column 2', 'Column 3'])  # Set custom x-axis labels\n",
    "plt.yticks(range(3), ['Row 1', 'Row 2', 'Row 3'])  # Set custom y-axis labels\n",
    "\n",
    "# Remove the color bar legend\n",
    "plt.colorbar().remove()\n",
    "\n",
    "# Show the plot\n",
    "plt.show()\n"
   ]
  },
  {
   "cell_type": "code",
   "execution_count": 25,
   "id": "9eb5b5d6-a929-4def-965c-b479bf85e803",
   "metadata": {},
   "outputs": [],
   "source": [
    "import turtle\n",
    "\n",
    "def draw_square(t, size):\n",
    "    for _ in range(4):\n",
    "        t.forward(size)\n",
    "        t.right(90)\n",
    "\n",
    "def draw_number(t, number, x, y):\n",
    "    t.penup()\n",
    "    t.goto(x, y)\n",
    "    t.pendown()\n",
    "    t.write(number, align=\"center\", font=(\"Arial\", 12, \"normal\"))\n",
    "\n",
    "def draw_matrix(matrix):\n",
    "    screen = turtle.Screen()\n",
    "    screen.title(\"Matrix Turtle Drawing\")\n",
    "    screen.bgcolor(\"white\")\n",
    "\n",
    "    # Calculate the starting position for the matrix\n",
    "    start_x = -150\n",
    "    start_y = 150\n",
    "    cell_size = 50\n",
    "\n",
    "    # Create a turtle object\n",
    "    t = turtle.Turtle()\n",
    "    t.speed(0)  # Set the turtle speed (0 is the fastest)\n",
    "\n",
    "    # Draw the matrix\n",
    "    for i in range(3):  # Rows\n",
    "        for j in range(3):  # Columns\n",
    "            # Calculate the position of the current cell\n",
    "            x = start_x + j * cell_size\n",
    "            y = start_y - i * cell_size\n",
    "\n",
    "            # Draw a square for the cell\n",
    "            t.penup()\n",
    "            t.goto(x, y)\n",
    "            t.pendown()\n",
    "            draw_square(t, cell_size)\n",
    "\n",
    "            # Draw the number inside the cell\n",
    "            draw_number(t, matrix[i][j], x + cell_size // 2, y - cell_size // 2)\n",
    "\n",
    "    t.hideturtle()  # Hide the turtle after drawing\n",
    "\n",
    "    # Keep the window open until it is closed by the user\n",
    "    screen.mainloop()\n",
    "\n",
    "\n",
    "# Call the draw_matrix function with the example matrix\n",
    "draw_matrix(solved_matrix)\n"
   ]
  },
  {
   "cell_type": "code",
   "execution_count": null,
   "id": "690b10b8-91c6-45b5-933a-b3eb69205bb1",
   "metadata": {},
   "outputs": [],
   "source": []
  }
 ],
 "metadata": {
  "kernelspec": {
   "display_name": "Python 3 (ipykernel)",
   "language": "python",
   "name": "python3"
  },
  "language_info": {
   "codemirror_mode": {
    "name": "ipython",
    "version": 3
   },
   "file_extension": ".py",
   "mimetype": "text/x-python",
   "name": "python",
   "nbconvert_exporter": "python",
   "pygments_lexer": "ipython3",
   "version": "3.12.4"
  }
 },
 "nbformat": 4,
 "nbformat_minor": 5
}
